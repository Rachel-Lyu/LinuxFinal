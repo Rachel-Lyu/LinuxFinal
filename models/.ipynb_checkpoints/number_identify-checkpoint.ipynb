{
 "cells": [
  {
   "cell_type": "code",
   "execution_count": 1,
   "metadata": {},
   "outputs": [],
   "source": [
    "import torch  \n",
    "import numpy as np\n",
    "import matplotlib.pyplot as plt\n",
    "%matplotlib inline\n",
    "\n",
    "plt.rcParams['font.sans-serif'] = ['SimHei']\n",
    "plt.rcParams['axes.unicode_minus'] = False\n",
    "\n",
    "from torchvision import datasets\n",
    "import torchvision.transforms as transforms\n",
    "from torch.utils.data.sampler import SubsetRandomSampler\n",
    "\n",
    "num_workers = 0\n",
    "\n",
    "batch_size = 20\n",
    "valid_size = 0.2"
   ]
  },
  {
   "cell_type": "code",
   "execution_count": 2,
   "metadata": {},
   "outputs": [],
   "source": [
    "transform = transforms.ToTensor()\n",
    "\n",
    "train_data = datasets.MNIST(root='data', train=True, download=True, transform=transform)\n",
    "\n",
    "test_data = datasets.MNIST(root='data', train=False, download=True, transform=transform)"
   ]
  },
  {
   "cell_type": "code",
   "execution_count": 3,
   "metadata": {},
   "outputs": [],
   "source": [
    "num_train = len(train_data)\n",
    "indices = list(range(num_train))\n",
    "np.random.shuffle(indices)\n",
    "split = int(np.floor(valid_size*num_train))\n",
    "train_idx, valid_idx = indices[split:], indices[:split]\n",
    "train_sampler, valid_sampler = SubsetRandomSampler(train_idx), SubsetRandomSampler(valid_idx)"
   ]
  },
  {
   "cell_type": "code",
   "execution_count": 4,
   "metadata": {},
   "outputs": [],
   "source": [
    "train_loader = torch.utils.data.DataLoader(train_data, batch_size=batch_size, \n",
    "                                           sampler=train_sampler, num_workers=num_workers)\n",
    "valid_loader = torch.utils.data.DataLoader(train_data, batch_size=batch_size,\n",
    "                                           sampler=valid_sampler, num_workers=num_workers)\n",
    "test_loader = torch.utils.data.DataLoader(test_data, batch_size=batch_size,\n",
    "                                           num_workers=num_workers)"
   ]
  },
  {
   "cell_type": "code",
   "execution_count": 6,
   "metadata": {},
   "outputs": [
    {
     "name": "stdout",
     "output_type": "stream",
     "text": [
      "Net(\n",
      "  (fc1): Linear(in_features=784, out_features=512, bias=True)\n",
      "  (fc2): Linear(in_features=512, out_features=512, bias=True)\n",
      "  (fc3): Linear(in_features=512, out_features=10, bias=True)\n",
      "  (dropout): Dropout(p=0.2, inplace=False)\n",
      ")\n"
     ]
    },
    {
     "data": {
      "text/plain": [
       "<All keys matched successfully>"
      ]
     },
     "execution_count": 6,
     "metadata": {},
     "output_type": "execute_result"
    }
   ],
   "source": [
    "import torch\n",
    "import torch.nn as nn\n",
    "import torch.nn.functional as F\n",
    "\n",
    "class Net(nn.Module):\n",
    "  def __init__(self):\n",
    "    super(Net, self).__init__()\n",
    "    hidden1 = 512\n",
    "    hidden2 = 512\n",
    "    self.fc1 = nn.Linear(28 * 28, hidden1)\n",
    "    self.fc2 = nn.Linear(hidden1, hidden2)\n",
    "    self.fc3 = nn.Linear(hidden2, 10)\n",
    "    self.dropout = nn.Dropout(0.2)\n",
    "\n",
    "  def forward(self, x):\n",
    "    x = x.view(-1, 28*28)\n",
    "    x = F.relu(self.fc1(x))\n",
    "    x = self.dropout(x)\n",
    "    \n",
    "    x = F.relu(self.fc2(x))\n",
    "    x = self.dropout(x)\n",
    "\n",
    "    x = self.fc3(x)\n",
    "    return(x)\n",
    "\n",
    "model = Net()\n",
    "print(model)\n",
    "model.load_state_dict(torch.load('model.pt'))"
   ]
  },
  {
   "cell_type": "code",
   "execution_count": 7,
   "metadata": {},
   "outputs": [],
   "source": [
    "class_correct = list(0. for i in range(10))\n",
    "class_total = list(0. for i in range(10))\n",
    "model.eval()\n",
    "for data, target in test_loader:\n",
    "  output = model(data)\n",
    "\n",
    "  _, pred = torch.max(output, 1)\n",
    "\n",
    "  correct = np.squeeze(pred.eq(target.data.view_as(pred)))\n",
    "  for i in range(batch_size):\n",
    "    label = target.data[i]\n",
    "    class_correct[label] += correct[i].item()\n",
    "    class_total[label] += 1"
   ]
  },
  {
   "cell_type": "code",
   "execution_count": 8,
   "metadata": {},
   "outputs": [],
   "source": [
    "dataiter = iter(train_loader)\n",
    "data, target = dataiter.next()"
   ]
  },
  {
   "cell_type": "code",
   "execution_count": 9,
   "metadata": {},
   "outputs": [
    {
     "name": "stdout",
     "output_type": "stream",
     "text": [
      "[969.0, 1127.0, 1013.0, 998.0, 963.0, 869.0, 939.0, 1002.0, 951.0, 981.0]\n",
      "[980.0, 1135.0, 1032.0, 1010.0, 982.0, 892.0, 958.0, 1028.0, 974.0, 1009.0]\n"
     ]
    }
   ],
   "source": [
    "output = model(data)\n",
    "correct = np.squeeze(pred.eq(target.data.view_as(pred)))\n",
    "print(class_correct)\n",
    "print(class_total)"
   ]
  },
  {
   "cell_type": "code",
   "execution_count": 10,
   "metadata": {},
   "outputs": [
    {
     "name": "stdout",
     "output_type": "stream",
     "text": [
      "correct rate of Number 0 on test set is 98.877551% (969/980)\n",
      "correct rate of Number 1 on test set is 99.295154% (1127/1135)\n",
      "correct rate of Number 2 on test set is 98.158915% (1013/1032)\n",
      "correct rate of Number 3 on test set is 98.811881% (998/1010)\n",
      "correct rate of Number 4 on test set is 98.065173% (963/982)\n",
      "correct rate of Number 5 on test set is 97.421525% (869/892)\n",
      "correct rate of Number 6 on test set is 98.016701% (939/958)\n",
      "correct rate of Number 7 on test set is 97.470817% (1002/1028)\n",
      "correct rate of Number 8 on test set is 97.638604% (951/974)\n",
      "correct rate of Number 9 on test set is 97.224975% (981/1009)\n"
     ]
    }
   ],
   "source": [
    "for i in range(10):\n",
    "  print('correct rate of Number {} on test set is {:5f}% ({:.0f}/{:.0f})'.\n",
    "        format(i, class_correct[i]*100/class_total[i], class_correct[i], class_total[i]))"
   ]
  },
  {
   "cell_type": "code",
   "execution_count": 11,
   "metadata": {},
   "outputs": [
    {
     "name": "stderr",
     "output_type": "stream",
     "text": [
      "findfont: Font family ['sans-serif'] not found. Falling back to DejaVu Sans.\n"
     ]
    },
    {
     "data": {
      "image/png": "[encoded data removed]",
      "text/plain": [
       "<Figure size 1800x288 with 20 Axes>"
      ]
     },
     "metadata": {},
     "output_type": "display_data"
    }
   ],
   "source": [
    "dataiter = iter(test_loader)\n",
    "images, labels = dataiter.next()\n",
    "output = model(images)\n",
    "_, preds = torch.max(output, 1)\n",
    "images = images.numpy()\n",
    "\n",
    "fig = plt.figure(figsize=(25, 4))\n",
    "for idx in np.arange(20):\n",
    "  ax = fig.add_subplot(2, 20/2, idx+1, xticks=[], yticks=[])\n",
    "  ax.imshow(np.squeeze(images[idx]), cmap='gray')\n",
    "  ax.set_title('{} ({})'.format(str(preds[idx].item()), str(labels[idx].item())),\n",
    "               color = (\"green\" if preds[idx]==labels[idx] else \"red\"))"
   ]
  },
  {
   "cell_type": "code",
   "execution_count": 12,
   "metadata": {},
   "outputs": [
    {
     "data": {
      "image/png": "[encoded data removed]",
      "text/plain": [
       "<Figure size 432x288 with 1 Axes>"
      ]
     },
     "metadata": {
      "needs_background": "light"
     },
     "output_type": "display_data"
    },
    {
     "data": {
      "image/png": "[encoded data removed]",
      "text/plain": [
       "<Figure size 576x576 with 1 Axes>"
      ]
     },
     "metadata": {},
     "output_type": "display_data"
    }
   ],
   "source": [
    "plt.axis('off')\n",
    "plt.figure(figsize=(8, 8))\n",
    "plt.imshow(np.squeeze(images[0]), cmap='gray')\n",
    "# fig.set_size_inches(0.28/3, 0.28/3) #dpi = 300, output = 700*700 pixels\n",
    "\n",
    "plt.gca().xaxis.set_major_locator(plt.NullLocator())\n",
    "plt.gca().yaxis.set_major_locator(plt.NullLocator())\n",
    "plt.subplots_adjust(top = 1, bottom = 0, right = 1, left = 0, hspace = 0, wspace = 0)\n",
    "plt.margins(0,0)\n",
    "\n",
    "plt.rcParams['savefig.dpi'] = 28 * 28\n",
    "# plt.show()\n",
    "\n",
    "plt.savefig(\"./temp.png\", bbox_inches='tight', pad_inches=0.0)"
   ]
  },
  {
   "cell_type": "code",
   "execution_count": 1,
   "metadata": {},
   "outputs": [],
   "source": [
    "import os\n",
    "# third-party library\n",
    "import torch\n",
    "import torch.nn as nn\n",
    "from torch.autograd import Variable\n",
    "import torch.utils.data as Data\n",
    "import torchvision\n",
    "import matplotlib.pyplot as plt \n",
    "# torch.manual_seed(1)  # reproducible\n",
    "DOWNLOAD_MNIST = False\n",
    "  \n",
    "# Mnist digits dataset\n",
    "if not(os.path.exists('./mnist/')) or not os.listdir('./mnist/'):\n",
    "  # not mnist dir or mnist is empyt dir\n",
    "  DOWNLOAD_MNIST = True\n",
    "  \n",
    "train_data = torchvision.datasets.MNIST(\n",
    "  root='./data/MNIST/',\n",
    "  train=True,                   # this is training data\n",
    "  transform=torchvision.transforms.ToTensor(),  # Converts a PIL.Image or numpy.ndarray to\n",
    "                          # torch.FloatTensor of shape (C x H x W) and normalize in the range [0.0, 1.0]\n",
    "  download=DOWNLOAD_MNIST,\n",
    ")"
   ]
  },
  {
   "cell_type": "code",
   "execution_count": null,
   "metadata": {},
   "outputs": [],
   "source": [
    "import os\n",
    "from skimage import io\n",
    "import torchvision.datasets.mnist as mnist\n",
    "import numpy \n",
    "root = \"./data/MNIST/raw/\"\n",
    "train_set = (\n",
    "  mnist.read_image_file(os.path.join(root, 'train-images-idx3-ubyte')),\n",
    "  mnist.read_label_file(os.path.join(root, 'train-labels-idx1-ubyte'))\n",
    ")\n",
    "  \n",
    "test_set = (\n",
    "  mnist.read_image_file(os.path.join(root,'t10k-images-idx3-ubyte')),\n",
    "  mnist.read_label_file(os.path.join(root,'t10k-labels-idx1-ubyte'))\n",
    ")\n",
    "  \n",
    "print(\"train set:\", train_set[0].size())\n",
    "print(\"test set:\", test_set[0].size())\n",
    "  \n",
    "def convert_to_img(train=True):\n",
    "  if(train):\n",
    "    f = open(root + 'train.txt', 'w')\n",
    "    data_path = root + '/train/'\n",
    "    if(not os.path.exists(data_path)):\n",
    "      os.makedirs(data_path)\n",
    "    for i, (img, label) in enumerate(zip(train_set[0], train_set[1])):\n",
    "      img_path = data_path + str(i) + '.jpg'\n",
    "      io.imsave(img_path, img.numpy())\n",
    "      int_label = str(label).replace('tensor(', '')\n",
    "      int_label = int_label.replace(')', '')\n",
    "      f.write(img_path + ' ' + str(int_label) + '\\n')\n",
    "      if i > 30:\n",
    "        break\n",
    "    f.close()\n",
    "  \n",
    "convert_to_img(True)\n"
   ]
  },
  {
   "cell_type": "code",
   "execution_count": null,
   "metadata": {},
   "outputs": [],
   "source": [
    "!tar -cvf  imgs.tar.gz ./data/MNIST/raw/train"
   ]
  },
  {
   "cell_type": "code",
   "execution_count": null,
   "metadata": {},
   "outputs": [],
   "source": []
  }
 ],
 "metadata": {
  "kernelspec": {
   "display_name": "Python 3",
   "language": "python",
   "name": "python3"
  },
  "language_info": {
   "codemirror_mode": {
    "name": "ipython",
    "version": 3
   },
   "file_extension": ".py",
   "mimetype": "text/x-python",
   "name": "python",
   "nbconvert_exporter": "python",
   "pygments_lexer": "ipython3",
   "version": "3.7.6"
  },
  "latex_envs": {
   "LaTeX_envs_menu_present": true,
   "autoclose": false,
   "autocomplete": true,
   "bibliofile": "biblio.bib",
   "cite_by": "apalike",
   "current_citInitial": 1,
   "eqLabelWithNumbers": true,
   "eqNumInitial": 1,
   "hotkeys": {
    "equation": "Ctrl-E",
    "itemize": "Ctrl-I"
   },
   "labels_anchors": false,
   "latex_user_defs": false,
   "report_style_numbering": false,
   "user_envs_cfg": false
  }
 },
 "nbformat": 4,
 "nbformat_minor": 4
}
